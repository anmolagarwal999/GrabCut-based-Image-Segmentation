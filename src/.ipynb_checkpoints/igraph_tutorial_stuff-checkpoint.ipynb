{
 "cells": [
  {
   "cell_type": "markdown",
   "metadata": {},
   "source": [
    "# Python-igraph Example\n",
    "## 1. Creating a graph"
   ]
  },
  {
   "cell_type": "code",
   "execution_count": 1,
   "metadata": {},
   "outputs": [],
   "source": [
    "from igraph import *\n",
    "\n",
    "# Create graph\n",
    "g = Graph(directed=True)\n",
    "\n",
    "# Add 5 vertices\n",
    "g.add_vertices(5)\n",
    "\n",
    "# Add ids and labels to vertices\n",
    "for i in range(len(g.vs)):\n",
    "    g.vs[i][\"id\"]= i\n",
    "    g.vs[i][\"label\"]= str(i)\n",
    "\n",
    "# Add edges\n",
    "g.add_edges([(0,2),(0,1),(0,3),(1,2),(1,3),(2,4),(3,4)])\n",
    "\n",
    "# Add weights and edge labels\n",
    "weights = [8,6,3,5,6,4,9]\n",
    "g.es['weight'] = weights\n",
    "g.es['label'] = weights"
   ]
  },
  {
   "cell_type": "markdown",
   "metadata": {},
   "source": [
    "## 2. Visualising the graph"
   ]
  },
  {
   "cell_type": "markdown",
   "metadata": {},
   "source": [
    "## 3. Obtaining information on vertices and edges of the graph"
   ]
  },
  {
   "cell_type": "code",
   "execution_count": 2,
   "metadata": {},
   "outputs": [
    {
     "name": "stdout",
     "output_type": "stream",
     "text": [
      "Number of vertices in the graph: 5\n",
      "Number of edges in the graph 7\n",
      "Is the graph directed: True\n",
      "Maximum degree in the graph: 3\n",
      "Adjacency matrix:\n",
      " [[0, 1, 1, 1, 0]\n",
      " [0, 0, 1, 1, 0]\n",
      " [0, 0, 0, 0, 1]\n",
      " [0, 0, 0, 0, 1]\n",
      " [0, 0, 0, 0, 0]]\n"
     ]
    }
   ],
   "source": [
    "print(\"Number of vertices in the graph:\", g.vcount())\n",
    "print(\"Number of edges in the graph\", g.ecount())\n",
    "print(\"Is the graph directed:\", g.is_directed())\n",
    "print(\"Maximum degree in the graph:\", g.maxdegree())\n",
    "print(\"Adjacency matrix:\\n\", g.get_adjacency())"
   ]
  },
  {
   "cell_type": "markdown",
   "metadata": {},
   "source": [
    "## 4. Obtaining adjacent vertices to a vertex"
   ]
  },
  {
   "cell_type": "code",
   "execution_count": 3,
   "metadata": {},
   "outputs": [
    {
     "name": "stdout",
     "output_type": "stream",
     "text": [
      "Returns adjacent vertices to a given vertex.\n",
      "\n",
      "@param vertex: a vertex ID\n",
      "@param mode: whether to return only successors (C{\"out\"}),\n",
      "  predecessors (C{\"in\"}) or both (C{\"all\"}). Ignored for undirected\n",
      "  graphs.\n",
      "[1, 2, 3]\n"
     ]
    }
   ],
   "source": [
    "print(g.neighbors.__doc__)\n",
    "\n",
    "print(g.neighbors(0, mode=ALL))"
   ]
  },
  {
   "cell_type": "markdown",
   "metadata": {},
   "source": [
    "## 5. Breadth-first search (BFS) from a vertex"
   ]
  },
  {
   "cell_type": "code",
   "execution_count": 4,
   "metadata": {
    "scrolled": true
   },
   "outputs": [
    {
     "name": "stdout",
     "output_type": "stream",
     "text": [
      "Conducts a breadth first search (BFS) on the graph.\n",
      "\n",
      "@param vid: the root vertex ID\n",
      "@param mode: either C{\"in\"} or C{\"out\"} or C{\"all\"}, ignored\n",
      "  for undirected graphs.\n",
      "@return: a tuple with the following items:\n",
      "   - The vertex IDs visited (in order)\n",
      "   - The start indices of the layers in the vertex list\n",
      "   - The parent of every vertex in the BFS\n",
      "\n",
      "([0, 1, 2, 3, 4], [0, 1, 4, 5], [0, 0, 0, 0, 2])\n"
     ]
    }
   ],
   "source": [
    "print(g.bfs.__doc__)\n",
    "print(g.bfs(0))"
   ]
  },
  {
   "cell_type": "markdown",
   "metadata": {},
   "source": [
    "## 6. Determining shortest paths from a vertex"
   ]
  },
  {
   "cell_type": "code",
   "execution_count": 5,
   "metadata": {},
   "outputs": [
    {
     "name": "stdout",
     "output_type": "stream",
     "text": [
      "Calculates the shortest paths from/to a given node in a graph.\n",
      "\n",
      "@param v: the source/destination for the calculated paths\n",
      "@param to: a vertex selector describing the destination/source for\n",
      "  the calculated paths. This can be a single vertex ID, a list of\n",
      "  vertex IDs, a single vertex name, a list of vertex names or a\n",
      "  L{VertexSeq} object. C{None} means all the vertices.\n",
      "@param weights: edge weights in a list or the name of an edge attribute\n",
      "  holding edge weights. If C{None}, all edges are assumed to have\n",
      "  equal weight.\n",
      "@param mode: the directionality of the paths. C{\"in\"} means to\n",
      "  calculate incoming paths, C{\"out\"} means to calculate outgoing\n",
      "  paths, C{\"all\"} means to calculate both ones.\n",
      "@param output: determines what should be returned. If this is\n",
      "  C{\"vpath\"}, a list of vertex IDs will be returned, one path\n",
      "  for each target vertex. For unconnected graphs, some of the list\n",
      "  elements may be empty. Note that in case of mode=C{\"in\"}, the vertices\n",
      "  in a path are returned in reversed order. If C{output=\"epath\"},\n",
      "  edge IDs are returned instead of vertex IDs.\n",
      "@return: see the documentation of the C{output} parameter.\n",
      "\n",
      "The shortest paths from vertex 0: [[0], [0, 1], [0, 2], [0, 3], [0, 2, 4]]\n",
      "The shortest paths from vertex 0 to vertex 4: [[0, 2, 4]]\n"
     ]
    }
   ],
   "source": [
    "print(g.get_shortest_paths.__doc__)\n",
    "\n",
    "print(\"The shortest paths from vertex 0:\", g.get_shortest_paths(0))\n",
    "print(\"The shortest paths from vertex 0 to vertex 4:\", g.get_shortest_paths(0, to=4))"
   ]
  },
  {
   "cell_type": "markdown",
   "metadata": {},
   "source": [
    "## 7. Obtain the Laplacian matrix of a graph"
   ]
  },
  {
   "cell_type": "code",
   "execution_count": 6,
   "metadata": {},
   "outputs": [
    {
     "name": "stdout",
     "output_type": "stream",
     "text": [
      "Returns the Laplacian matrix of a graph.\n",
      "\n",
      "The Laplacian matrix is similar to the adjacency matrix, but the edges\n",
      "are denoted with -1 and the diagonal contains the node degrees.\n",
      "\n",
      "Normalized Laplacian matrices have 1 or 0 in their diagonals (0 for vertices\n",
      "with no edges), edges are denoted by 1 / sqrt(d_i * d_j) where d_i is the\n",
      "degree of node i.\n",
      "\n",
      "Multiple edges and self-loops are silently ignored. Although it is\n",
      "possible to calculate the Laplacian matrix of a directed graph, it does\n",
      "not make much sense.\n",
      "\n",
      "@param weights: edge weights to be used. Can be a sequence or iterable or\n",
      "  even an edge attribute name. When edge weights are used, the degree\n",
      "  of a node is considered to be the weight of its incident edges.\n",
      "@param normalized: whether to return the normalized Laplacian matrix.\n",
      "@return: the Laplacian matrix.\n",
      "\n",
      "Laplacian matrix of a graph:\n",
      " [[3, -1, -1, -1, 0], [0, 2, -1, -1, 0], [0, 0, 1, 0, -1], [0, 0, 0, 1, -1], [0, 0, 0, 0, 0]]\n"
     ]
    }
   ],
   "source": [
    "print(g.laplacian.__doc__)\n",
    "print(\"Laplacian matrix of a graph:\\n\",g.laplacian())"
   ]
  },
  {
   "cell_type": "markdown",
   "metadata": {},
   "source": [
    "## 8. Determine the maximum flow between the source and target vertices"
   ]
  },
  {
   "cell_type": "code",
   "execution_count": 7,
   "metadata": {
    "scrolled": true
   },
   "outputs": [
    {
     "name": "stdout",
     "output_type": "stream",
     "text": [
      "Returns a maximum flow between the given source and target vertices\n",
      "        in a graph.\n",
      "\n",
      "        A maximum flow from I{source} to I{target} is an assignment of\n",
      "        non-negative real numbers to the edges of the graph, satisfying\n",
      "        two properties:\n",
      "\n",
      "            1. For each edge, the flow (i.e. the assigned number) is not\n",
      "               more than the capacity of the edge (see the I{capacity}\n",
      "               argument)\n",
      "\n",
      "            2. For every vertex except the source and the target, the\n",
      "               incoming flow is the same as the outgoing flow.\n",
      "\n",
      "        The value of the flow is the incoming flow of the target or the\n",
      "        outgoing flow of the source (which are equal). The maximum flow\n",
      "        is the maximum possible such value.\n",
      "\n",
      "        @param capacity: the edge capacities (weights). If C{None}, all\n",
      "          edges have equal weight. May also be an attribute name.\n",
      "        @return: a L{Flow} object describing the maximum flow\n",
      "        \n",
      "A flow of a given graph.\n",
      "\n",
      "    This is a simple class used to represent flows returned by\n",
      "    L{Graph.maxflow}. It has the following attributes:\n",
      "\n",
      "      - C{graph} - the graph on which this flow is defined\n",
      "\n",
      "      - C{value} - the value (capacity) of the flow\n",
      "\n",
      "      - C{flow} - the flow values on each edge. For directed graphs,\n",
      "        this is simply a list where element M{i} corresponds to the\n",
      "        flow on edge M{i}. For undirected graphs, the direction of\n",
      "        the flow is not constrained (since the edges are undirected),\n",
      "        hence positive flow always means a flow from the smaller vertex\n",
      "        ID to the larger, while negative flow means a flow from the\n",
      "        larger vertex ID to the smaller.\n",
      "\n",
      "      - C{cut} - edge IDs in the minimal cut corresponding to\n",
      "        the flow.\n",
      "\n",
      "      - C{partition} - vertex IDs in the parts created\n",
      "        after removing edges in the cut\n",
      "\n",
      "      - C{es} - an edge selector restricted to the edges\n",
      "        in the cut.\n",
      "\n",
      "    This class is usually not instantiated directly, everything\n",
      "    is taken care of by L{Graph.maxflow}.\n",
      "\n",
      "    Examples:\n",
      "\n",
      "      >>> from igraph import Graph\n",
      "      >>> g = Graph.Ring(20)\n",
      "      >>> mf = g.maxflow(0, 10)\n",
      "      >>> print(mf.value)\n",
      "      2.0\n",
      "      >>> mf.es[\"color\"] = \"red\"\n",
      "    \n",
      "The maximum flow value: 13.0\n",
      "The flow values on each edge: [4.0, 6.0, 3.0, 0.0, 6.0, 4.0, 9.0]\n",
      "Tedge IDs in the minimal cut of the flow: [5, 6]\n",
      "The vertex IDs in the parts created created by the cut: [[0, 1, 2, 3], [4]]\n"
     ]
    }
   ],
   "source": [
    "print(g.maxflow.__doc__)\n",
    "print(g.maxflow(0,4,weights).__doc__)\n",
    "\n",
    "maxflow = g.maxflow(0,4,weights)\n",
    "\n",
    "print(\"The maximum flow value:\", maxflow.value)\n",
    "print(\"The flow values on each edge:\", maxflow.flow)\n",
    "print(\"Tedge IDs in the minimal cut of the flow:\", maxflow.cut)\n",
    "print(\"The vertex IDs in the parts created created by the cut:\", maxflow.partition)"
   ]
  },
  {
   "cell_type": "code",
   "execution_count": 8,
   "metadata": {},
   "outputs": [
    {
     "data": {
      "image/svg+xml": [
       "<?xml version=\"1.0\" encoding=\"UTF-8\"?>\n",
       "<svg xmlns=\"http://www.w3.org/2000/svg\" xmlns:xlink=\"http://www.w3.org/1999/xlink\" width=\"400pt\" height=\"400pt\" viewBox=\"0 0 400 400\" version=\"1.1\">\n",
       "<defs>\n",
       "<g>\n",
       "<symbol overflow=\"visible\" id=\"glyph0-0\">\n",
       "<path style=\"stroke:none;\" d=\"M 1.09375 3.890625 L 1.09375 -15.515625 L 12.09375 -15.515625 L 12.09375 3.890625 Z M 2.328125 2.671875 L 10.875 2.671875 L 10.875 -14.28125 L 2.328125 -14.28125 Z M 2.328125 2.671875 \"/>\n",
       "</symbol>\n",
       "<symbol overflow=\"visible\" id=\"glyph0-1\">\n",
       "<path style=\"stroke:none;\" d=\"M 7 -14.609375 C 5.875 -14.609375 5.03125 -14.054688 4.46875 -12.953125 C 3.90625 -11.859375 3.625 -10.207031 3.625 -8 C 3.625 -5.800781 3.90625 -4.148438 4.46875 -3.046875 C 5.03125 -1.953125 5.875 -1.40625 7 -1.40625 C 8.125 -1.40625 8.960938 -1.953125 9.515625 -3.046875 C 10.078125 -4.148438 10.359375 -5.800781 10.359375 -8 C 10.359375 -10.207031 10.078125 -11.859375 9.515625 -12.953125 C 8.960938 -14.054688 8.125 -14.609375 7 -14.609375 Z M 7 -16.328125 C 8.789062 -16.328125 10.160156 -15.613281 11.109375 -14.1875 C 12.054688 -12.769531 12.53125 -10.707031 12.53125 -8 C 12.53125 -5.300781 12.054688 -3.238281 11.109375 -1.8125 C 10.160156 -0.394531 8.789062 0.3125 7 0.3125 C 5.195312 0.3125 3.820312 -0.394531 2.875 -1.8125 C 1.925781 -3.238281 1.453125 -5.300781 1.453125 -8 C 1.453125 -10.707031 1.925781 -12.769531 2.875 -14.1875 C 3.820312 -15.613281 5.195312 -16.328125 7 -16.328125 Z M 7 -16.328125 \"/>\n",
       "</symbol>\n",
       "<symbol overflow=\"visible\" id=\"glyph0-2\">\n",
       "<path style=\"stroke:none;\" d=\"M 2.734375 -1.828125 L 6.28125 -1.828125 L 6.28125 -14.0625 L 2.421875 -13.28125 L 2.421875 -15.265625 L 6.25 -16.03125 L 8.421875 -16.03125 L 8.421875 -1.828125 L 11.96875 -1.828125 L 11.96875 0 L 2.734375 0 Z M 2.734375 -1.828125 \"/>\n",
       "</symbol>\n",
       "<symbol overflow=\"visible\" id=\"glyph0-3\">\n",
       "<path style=\"stroke:none;\" d=\"M 4.21875 -1.828125 L 11.796875 -1.828125 L 11.796875 0 L 1.609375 0 L 1.609375 -1.828125 C 2.429688 -2.679688 3.550781 -3.820312 4.96875 -5.25 C 6.394531 -6.6875 7.289062 -7.613281 7.65625 -8.03125 C 8.351562 -8.8125 8.835938 -9.472656 9.109375 -10.015625 C 9.390625 -10.554688 9.53125 -11.085938 9.53125 -11.609375 C 9.53125 -12.460938 9.226562 -13.15625 8.625 -13.6875 C 8.03125 -14.226562 7.253906 -14.5 6.296875 -14.5 C 5.617188 -14.5 4.898438 -14.378906 4.140625 -14.140625 C 3.390625 -13.910156 2.582031 -13.554688 1.71875 -13.078125 L 1.71875 -15.265625 C 2.59375 -15.617188 3.410156 -15.882812 4.171875 -16.0625 C 4.929688 -16.238281 5.625 -16.328125 6.25 -16.328125 C 7.914062 -16.328125 9.238281 -15.910156 10.21875 -15.078125 C 11.207031 -14.253906 11.703125 -13.144531 11.703125 -11.75 C 11.703125 -11.09375 11.578125 -10.46875 11.328125 -9.875 C 11.085938 -9.28125 10.640625 -8.582031 9.984375 -7.78125 C 9.804688 -7.582031 9.238281 -6.984375 8.28125 -5.984375 C 7.320312 -4.992188 5.96875 -3.609375 4.21875 -1.828125 Z M 4.21875 -1.828125 \"/>\n",
       "</symbol>\n",
       "<symbol overflow=\"visible\" id=\"glyph0-4\">\n",
       "<path style=\"stroke:none;\" d=\"M 8.921875 -8.640625 C 9.960938 -8.421875 10.773438 -7.957031 11.359375 -7.25 C 11.941406 -6.550781 12.234375 -5.6875 12.234375 -4.65625 C 12.234375 -3.070312 11.6875 -1.847656 10.59375 -0.984375 C 9.507812 -0.117188 7.96875 0.3125 5.96875 0.3125 C 5.289062 0.3125 4.59375 0.242188 3.875 0.109375 C 3.164062 -0.0234375 2.429688 -0.222656 1.671875 -0.484375 L 1.671875 -2.578125 C 2.273438 -2.222656 2.9375 -1.957031 3.65625 -1.78125 C 4.375 -1.601562 5.117188 -1.515625 5.890625 -1.515625 C 7.253906 -1.515625 8.289062 -1.78125 9 -2.3125 C 9.71875 -2.851562 10.078125 -3.632812 10.078125 -4.65625 C 10.078125 -5.601562 9.742188 -6.34375 9.078125 -6.875 C 8.421875 -7.414062 7.5 -7.6875 6.3125 -7.6875 L 4.453125 -7.6875 L 4.453125 -9.46875 L 6.40625 -9.46875 C 7.46875 -9.46875 8.28125 -9.679688 8.84375 -10.109375 C 9.414062 -10.535156 9.703125 -11.148438 9.703125 -11.953125 C 9.703125 -12.773438 9.410156 -13.40625 8.828125 -13.84375 C 8.242188 -14.28125 7.40625 -14.5 6.3125 -14.5 C 5.71875 -14.5 5.082031 -14.429688 4.40625 -14.296875 C 3.726562 -14.171875 2.976562 -13.972656 2.15625 -13.703125 L 2.15625 -15.640625 C 2.976562 -15.867188 3.75 -16.039062 4.46875 -16.15625 C 5.1875 -16.269531 5.867188 -16.328125 6.515625 -16.328125 C 8.160156 -16.328125 9.460938 -15.953125 10.421875 -15.203125 C 11.378906 -14.453125 11.859375 -13.441406 11.859375 -12.171875 C 11.859375 -11.285156 11.601562 -10.535156 11.09375 -9.921875 C 10.582031 -9.304688 9.859375 -8.878906 8.921875 -8.640625 Z M 8.921875 -8.640625 \"/>\n",
       "</symbol>\n",
       "<symbol overflow=\"visible\" id=\"glyph0-5\">\n",
       "<path style=\"stroke:none;\" d=\"M 8.3125 -14.140625 L 2.84375 -5.59375 L 8.3125 -5.59375 Z M 7.75 -16.03125 L 10.46875 -16.03125 L 10.46875 -5.59375 L 12.765625 -5.59375 L 12.765625 -3.78125 L 10.46875 -3.78125 L 10.46875 0 L 8.3125 0 L 8.3125 -3.78125 L 1.078125 -3.78125 L 1.078125 -5.875 Z M 7.75 -16.03125 \"/>\n",
       "</symbol>\n",
       "<symbol overflow=\"visible\" id=\"glyph1-0\">\n",
       "<path style=\"stroke:none;\" d=\"M 0.59375 2.125 L 0.59375 -8.46875 L 6.59375 -8.46875 L 6.59375 2.125 Z M 1.265625 1.453125 L 5.9375 1.453125 L 5.9375 -7.78125 L 1.265625 -7.78125 Z M 1.265625 1.453125 \"/>\n",
       "</symbol>\n",
       "<symbol overflow=\"visible\" id=\"glyph1-1\">\n",
       "<path style=\"stroke:none;\" d=\"M 3.8125 -4.15625 C 3.25 -4.15625 2.804688 -4.003906 2.484375 -3.703125 C 2.160156 -3.398438 2 -2.988281 2 -2.46875 C 2 -1.9375 2.160156 -1.519531 2.484375 -1.21875 C 2.804688 -0.914062 3.25 -0.765625 3.8125 -0.765625 C 4.375 -0.765625 4.816406 -0.914062 5.140625 -1.21875 C 5.460938 -1.519531 5.625 -1.9375 5.625 -2.46875 C 5.625 -2.988281 5.460938 -3.398438 5.140625 -3.703125 C 4.828125 -4.003906 4.382812 -4.15625 3.8125 -4.15625 Z M 2.625 -4.65625 C 2.125 -4.78125 1.726562 -5.015625 1.4375 -5.359375 C 1.15625 -5.710938 1.015625 -6.140625 1.015625 -6.640625 C 1.015625 -7.335938 1.265625 -7.890625 1.765625 -8.296875 C 2.265625 -8.703125 2.945312 -8.90625 3.8125 -8.90625 C 4.6875 -8.90625 5.367188 -8.703125 5.859375 -8.296875 C 6.359375 -7.890625 6.609375 -7.335938 6.609375 -6.640625 C 6.609375 -6.140625 6.46875 -5.710938 6.1875 -5.359375 C 5.90625 -5.015625 5.507812 -4.78125 5 -4.65625 C 5.570312 -4.519531 6.015625 -4.257812 6.328125 -3.875 C 6.648438 -3.488281 6.8125 -3.019531 6.8125 -2.46875 C 6.8125 -1.613281 6.550781 -0.957031 6.03125 -0.5 C 5.519531 -0.0507812 4.78125 0.171875 3.8125 0.171875 C 2.851562 0.171875 2.113281 -0.0507812 1.59375 -0.5 C 1.070312 -0.957031 0.8125 -1.613281 0.8125 -2.46875 C 0.8125 -3.019531 0.972656 -3.488281 1.296875 -3.875 C 1.617188 -4.257812 2.0625 -4.519531 2.625 -4.65625 Z M 2.203125 -6.53125 C 2.203125 -6.070312 2.34375 -5.71875 2.625 -5.46875 C 2.90625 -5.21875 3.300781 -5.09375 3.8125 -5.09375 C 4.320312 -5.09375 4.71875 -5.21875 5 -5.46875 C 5.289062 -5.71875 5.4375 -6.070312 5.4375 -6.53125 C 5.4375 -6.976562 5.289062 -7.328125 5 -7.578125 C 4.71875 -7.835938 4.320312 -7.96875 3.8125 -7.96875 C 3.300781 -7.96875 2.90625 -7.835938 2.625 -7.578125 C 2.34375 -7.328125 2.203125 -6.976562 2.203125 -6.53125 Z M 2.203125 -6.53125 \"/>\n",
       "</symbol>\n",
       "<symbol overflow=\"visible\" id=\"glyph1-2\">\n",
       "<path style=\"stroke:none;\" d=\"M 3.96875 -4.84375 C 3.4375 -4.84375 3.015625 -4.660156 2.703125 -4.296875 C 2.390625 -3.929688 2.234375 -3.4375 2.234375 -2.8125 C 2.234375 -2.175781 2.390625 -1.675781 2.703125 -1.3125 C 3.015625 -0.945312 3.4375 -0.765625 3.96875 -0.765625 C 4.5 -0.765625 4.914062 -0.945312 5.21875 -1.3125 C 5.53125 -1.675781 5.6875 -2.175781 5.6875 -2.8125 C 5.6875 -3.4375 5.53125 -3.929688 5.21875 -4.296875 C 4.914062 -4.660156 4.5 -4.84375 3.96875 -4.84375 Z M 6.3125 -8.5625 L 6.3125 -7.484375 C 6.007812 -7.617188 5.707031 -7.722656 5.40625 -7.796875 C 5.101562 -7.867188 4.804688 -7.90625 4.515625 -7.90625 C 3.734375 -7.90625 3.132812 -7.640625 2.71875 -7.109375 C 2.3125 -6.585938 2.078125 -5.796875 2.015625 -4.734375 C 2.242188 -5.066406 2.53125 -5.320312 2.875 -5.5 C 3.226562 -5.6875 3.613281 -5.78125 4.03125 -5.78125 C 4.90625 -5.78125 5.597656 -5.515625 6.109375 -4.984375 C 6.617188 -4.453125 6.875 -3.726562 6.875 -2.8125 C 6.875 -1.90625 6.609375 -1.179688 6.078125 -0.640625 C 5.546875 -0.0976562 4.84375 0.171875 3.96875 0.171875 C 2.945312 0.171875 2.171875 -0.210938 1.640625 -0.984375 C 1.109375 -1.765625 0.84375 -2.890625 0.84375 -4.359375 C 0.84375 -5.742188 1.171875 -6.847656 1.828125 -7.671875 C 2.484375 -8.492188 3.363281 -8.90625 4.46875 -8.90625 C 4.757812 -8.90625 5.054688 -8.875 5.359375 -8.8125 C 5.660156 -8.757812 5.976562 -8.675781 6.3125 -8.5625 Z M 6.3125 -8.5625 \"/>\n",
       "</symbol>\n",
       "<symbol overflow=\"visible\" id=\"glyph1-3\">\n",
       "<path style=\"stroke:none;\" d=\"M 4.875 -4.71875 C 5.4375 -4.59375 5.875 -4.335938 6.1875 -3.953125 C 6.507812 -3.578125 6.671875 -3.109375 6.671875 -2.546875 C 6.671875 -1.679688 6.375 -1.007812 5.78125 -0.53125 C 5.1875 -0.0625 4.34375 0.171875 3.25 0.171875 C 2.882812 0.171875 2.503906 0.132812 2.109375 0.0625 C 1.722656 -0.0078125 1.328125 -0.117188 0.921875 -0.265625 L 0.921875 -1.40625 C 1.242188 -1.21875 1.597656 -1.070312 1.984375 -0.96875 C 2.378906 -0.875 2.789062 -0.828125 3.21875 -0.828125 C 3.957031 -0.828125 4.519531 -0.972656 4.90625 -1.265625 C 5.300781 -1.554688 5.5 -1.984375 5.5 -2.546875 C 5.5 -3.054688 5.316406 -3.457031 4.953125 -3.75 C 4.585938 -4.039062 4.085938 -4.1875 3.453125 -4.1875 L 2.421875 -4.1875 L 2.421875 -5.15625 L 3.5 -5.15625 C 4.070312 -5.15625 4.515625 -5.269531 4.828125 -5.5 C 5.140625 -5.738281 5.296875 -6.078125 5.296875 -6.515625 C 5.296875 -6.960938 5.132812 -7.304688 4.8125 -7.546875 C 4.5 -7.785156 4.046875 -7.90625 3.453125 -7.90625 C 3.117188 -7.90625 2.765625 -7.867188 2.390625 -7.796875 C 2.023438 -7.734375 1.617188 -7.628906 1.171875 -7.484375 L 1.171875 -8.53125 C 1.628906 -8.65625 2.050781 -8.75 2.4375 -8.8125 C 2.832031 -8.875 3.203125 -8.90625 3.546875 -8.90625 C 4.453125 -8.90625 5.164062 -8.703125 5.6875 -8.296875 C 6.207031 -7.890625 6.46875 -7.335938 6.46875 -6.640625 C 6.46875 -6.148438 6.328125 -5.738281 6.046875 -5.40625 C 5.773438 -5.070312 5.382812 -4.84375 4.875 -4.71875 Z M 4.875 -4.71875 \"/>\n",
       "</symbol>\n",
       "<symbol overflow=\"visible\" id=\"glyph1-4\">\n",
       "<path style=\"stroke:none;\" d=\"M 1.296875 -8.75 L 5.9375 -8.75 L 5.9375 -7.75 L 2.375 -7.75 L 2.375 -5.609375 C 2.550781 -5.671875 2.722656 -5.710938 2.890625 -5.734375 C 3.066406 -5.765625 3.238281 -5.78125 3.40625 -5.78125 C 4.382812 -5.78125 5.160156 -5.507812 5.734375 -4.96875 C 6.304688 -4.4375 6.59375 -3.71875 6.59375 -2.8125 C 6.59375 -1.863281 6.296875 -1.128906 5.703125 -0.609375 C 5.117188 -0.0859375 4.296875 0.171875 3.234375 0.171875 C 2.859375 0.171875 2.476562 0.140625 2.09375 0.078125 C 1.71875 0.015625 1.328125 -0.078125 0.921875 -0.203125 L 0.921875 -1.390625 C 1.273438 -1.203125 1.640625 -1.0625 2.015625 -0.96875 C 2.390625 -0.875 2.785156 -0.828125 3.203125 -0.828125 C 3.878906 -0.828125 4.414062 -1.003906 4.8125 -1.359375 C 5.207031 -1.710938 5.40625 -2.195312 5.40625 -2.8125 C 5.40625 -3.414062 5.207031 -3.894531 4.8125 -4.25 C 4.414062 -4.601562 3.878906 -4.78125 3.203125 -4.78125 C 2.890625 -4.78125 2.570312 -4.742188 2.25 -4.671875 C 1.9375 -4.609375 1.617188 -4.503906 1.296875 -4.359375 Z M 1.296875 -8.75 \"/>\n",
       "</symbol>\n",
       "<symbol overflow=\"visible\" id=\"glyph1-5\">\n",
       "<path style=\"stroke:none;\" d=\"M 4.53125 -7.71875 L 1.546875 -3.046875 L 4.53125 -3.046875 Z M 4.21875 -8.75 L 5.71875 -8.75 L 5.71875 -3.046875 L 6.96875 -3.046875 L 6.96875 -2.0625 L 5.71875 -2.0625 L 5.71875 0 L 4.53125 0 L 4.53125 -2.0625 L 0.59375 -2.0625 L 0.59375 -3.203125 Z M 4.21875 -8.75 \"/>\n",
       "</symbol>\n",
       "<symbol overflow=\"visible\" id=\"glyph1-6\">\n",
       "<path style=\"stroke:none;\" d=\"M 1.3125 -0.1875 L 1.3125 -1.265625 C 1.613281 -1.117188 1.914062 -1.007812 2.21875 -0.9375 C 2.519531 -0.863281 2.820312 -0.828125 3.125 -0.828125 C 3.90625 -0.828125 4.5 -1.085938 4.90625 -1.609375 C 5.320312 -2.140625 5.554688 -2.941406 5.609375 -4.015625 C 5.390625 -3.671875 5.101562 -3.410156 4.75 -3.234375 C 4.40625 -3.054688 4.019531 -2.96875 3.59375 -2.96875 C 2.71875 -2.96875 2.023438 -3.226562 1.515625 -3.75 C 1.003906 -4.28125 0.75 -5.007812 0.75 -5.9375 C 0.75 -6.832031 1.015625 -7.550781 1.546875 -8.09375 C 2.078125 -8.632812 2.785156 -8.90625 3.671875 -8.90625 C 4.679688 -8.90625 5.453125 -8.515625 5.984375 -7.734375 C 6.523438 -6.960938 6.796875 -5.835938 6.796875 -4.359375 C 6.796875 -2.984375 6.46875 -1.882812 5.8125 -1.0625 C 5.15625 -0.238281 4.273438 0.171875 3.171875 0.171875 C 2.867188 0.171875 2.566406 0.140625 2.265625 0.078125 C 1.960938 0.0234375 1.644531 -0.0625 1.3125 -0.1875 Z M 3.671875 -3.890625 C 4.203125 -3.890625 4.625 -4.070312 4.9375 -4.4375 C 5.25 -4.800781 5.40625 -5.300781 5.40625 -5.9375 C 5.40625 -6.5625 5.25 -7.054688 4.9375 -7.421875 C 4.625 -7.785156 4.203125 -7.96875 3.671875 -7.96875 C 3.140625 -7.96875 2.71875 -7.785156 2.40625 -7.421875 C 2.101562 -7.054688 1.953125 -6.5625 1.953125 -5.9375 C 1.953125 -5.300781 2.101562 -4.800781 2.40625 -4.4375 C 2.71875 -4.070312 3.140625 -3.890625 3.671875 -3.890625 Z M 3.671875 -3.890625 \"/>\n",
       "</symbol>\n",
       "</g>\n",
       "</defs>\n",
       "<g id=\"surface25\">\n",
       "<rect x=\"0\" y=\"0\" width=\"400\" height=\"400\" style=\"fill:rgb(100%,100%,100%);fill-opacity:1;stroke:none;\"/>\n",
       "<path style=\"fill:none;stroke-width:1;stroke-linecap:butt;stroke-linejoin:miter;stroke:rgb(26.666667%,26.666667%,26.666667%);stroke-opacity:1;stroke-miterlimit:10;\" d=\"M 275.476562 78.78125 L 351.65625 185.625 \"/>\n",
       "<path style=\" stroke:none;fill-rule:nonzero;fill:rgb(26.666667%,26.666667%,26.666667%);fill-opacity:1;\" d=\"M 359.9375 197.242188 L 347.882812 188.316406 L 355.429688 182.933594 L 359.9375 197.242188 \"/>\n",
       "<path style=\"fill:none;stroke-width:1;stroke-linecap:butt;stroke-linejoin:miter;stroke:rgb(26.666667%,26.666667%,26.666667%);stroke-opacity:1;stroke-miterlimit:10;\" d=\"M 275.476562 78.78125 L 247.050781 336.457031 \"/>\n",
       "<path style=\" stroke:none;fill-rule:nonzero;fill:rgb(26.666667%,26.666667%,26.666667%);fill-opacity:1;\" d=\"M 245.484375 350.636719 L 242.441406 335.949219 L 251.65625 336.964844 L 245.484375 350.636719 \"/>\n",
       "<path style=\"fill:none;stroke-width:1;stroke-linecap:butt;stroke-linejoin:miter;stroke:rgb(26.666667%,26.666667%,26.666667%);stroke-opacity:1;stroke-miterlimit:10;\" d=\"M 275.476562 78.78125 L 55.882812 251.75 \"/>\n",
       "<path style=\" stroke:none;fill-rule:nonzero;fill:rgb(26.666667%,26.666667%,26.666667%);fill-opacity:1;\" d=\"M 44.675781 260.578125 L 53.015625 248.109375 L 58.75 255.394531 L 44.675781 260.578125 \"/>\n",
       "<path style=\"fill:none;stroke-width:1;stroke-linecap:butt;stroke-linejoin:miter;stroke:rgb(26.666667%,26.666667%,26.666667%);stroke-opacity:1;stroke-miterlimit:10;\" d=\"M 243.019531 373 L 349.59375 243.914062 \"/>\n",
       "<path style=\" stroke:none;fill-rule:nonzero;fill:rgb(26.666667%,26.666667%,26.666667%);fill-opacity:1;\" d=\"M 358.675781 232.910156 L 353.167969 246.863281 L 346.019531 240.960938 L 358.675781 232.910156 \"/>\n",
       "<path style=\"fill:none;stroke-width:1;stroke-linecap:butt;stroke-linejoin:miter;stroke:rgb(26.666667%,26.666667%,26.666667%);stroke-opacity:1;stroke-miterlimit:10;\" d=\"M 243.019531 373 L 60.453125 289.753906 \"/>\n",
       "<path style=\" stroke:none;fill-rule:nonzero;fill:rgb(26.666667%,26.666667%,26.666667%);fill-opacity:1;\" d=\"M 47.472656 283.835938 L 62.375 285.539062 L 58.53125 293.972656 L 47.472656 283.835938 \"/>\n",
       "<path style=\"fill:none;stroke-width:1;stroke-linecap:butt;stroke-linejoin:miter;stroke:rgb(26.666667%,26.666667%,26.666667%);stroke-opacity:1;stroke-miterlimit:10;\" d=\"M 373 215.5625 L 67.613281 44.933594 \"/>\n",
       "<path style=\" stroke:none;fill-rule:nonzero;fill:rgb(26.666667%,26.666667%,26.666667%);fill-opacity:1;\" d=\"M 55.15625 37.972656 L 69.871094 40.886719 L 65.351562 48.980469 L 55.15625 37.972656 \"/>\n",
       "<path style=\"fill:none;stroke-width:1;stroke-linecap:butt;stroke-linejoin:miter;stroke:rgb(26.666667%,26.666667%,26.666667%);stroke-opacity:1;stroke-miterlimit:10;\" d=\"M 27 274.5 L 34.25 63.742188 \"/>\n",
       "<path style=\" stroke:none;fill-rule:nonzero;fill:rgb(26.666667%,26.666667%,26.666667%);fill-opacity:1;\" d=\"M 34.742188 49.488281 L 38.882812 63.902344 L 29.621094 63.585938 L 34.742188 49.488281 \"/>\n",
       "<path style=\"fill-rule:nonzero;fill:rgb(100%,100%,100%);fill-opacity:1;stroke-width:1;stroke-linecap:butt;stroke-linejoin:miter;stroke:rgb(0%,0%,0%);stroke-opacity:1;stroke-miterlimit:10;\" d=\"M 297.976562 78.78125 C 297.976562 91.207031 287.902344 101.28125 275.476562 101.28125 C 263.046875 101.28125 252.976562 91.207031 252.976562 78.78125 C 252.976562 66.355469 263.046875 56.28125 275.476562 56.28125 C 287.902344 56.28125 297.976562 66.355469 297.976562 78.78125 \"/>\n",
       "<path style=\"fill-rule:nonzero;fill:rgb(100%,100%,100%);fill-opacity:1;stroke-width:1;stroke-linecap:butt;stroke-linejoin:miter;stroke:rgb(0%,0%,0%);stroke-opacity:1;stroke-miterlimit:10;\" d=\"M 265.519531 373 C 265.519531 385.425781 255.445312 395.5 243.019531 395.5 C 230.59375 395.5 220.519531 385.425781 220.519531 373 C 220.519531 360.574219 230.59375 350.5 243.019531 350.5 C 255.445312 350.5 265.519531 360.574219 265.519531 373 \"/>\n",
       "<path style=\"fill-rule:nonzero;fill:rgb(100%,100%,100%);fill-opacity:1;stroke-width:1;stroke-linecap:butt;stroke-linejoin:miter;stroke:rgb(0%,0%,0%);stroke-opacity:1;stroke-miterlimit:10;\" d=\"M 395.5 215.5625 C 395.5 227.988281 385.425781 238.0625 373 238.0625 C 360.574219 238.0625 350.5 227.988281 350.5 215.5625 C 350.5 203.132812 360.574219 193.0625 373 193.0625 C 385.425781 193.0625 395.5 203.132812 395.5 215.5625 \"/>\n",
       "<path style=\"fill-rule:nonzero;fill:rgb(100%,100%,100%);fill-opacity:1;stroke-width:1;stroke-linecap:butt;stroke-linejoin:miter;stroke:rgb(0%,0%,0%);stroke-opacity:1;stroke-miterlimit:10;\" d=\"M 49.5 274.5 C 49.5 286.925781 39.425781 297 27 297 C 14.574219 297 4.5 286.925781 4.5 274.5 C 4.5 262.074219 14.574219 252 27 252 C 39.425781 252 49.5 262.074219 49.5 274.5 \"/>\n",
       "<path style=\"fill-rule:nonzero;fill:rgb(100%,100%,100%);fill-opacity:1;stroke-width:1;stroke-linecap:butt;stroke-linejoin:miter;stroke:rgb(0%,0%,0%);stroke-opacity:1;stroke-miterlimit:10;\" d=\"M 58.015625 27 C 58.015625 39.425781 47.941406 49.5 35.515625 49.5 C 23.089844 49.5 13.015625 39.425781 13.015625 27 C 13.015625 14.574219 23.089844 4.5 35.515625 4.5 C 47.941406 4.5 58.015625 14.574219 58.015625 27 \"/>\n",
       "<g style=\"fill:rgb(0%,0%,0%);fill-opacity:1;\">\n",
       "  <use xlink:href=\"#glyph0-1\" x=\"268.480469\" y=\"89.539062\"/>\n",
       "</g>\n",
       "<g style=\"fill:rgb(0%,0%,0%);fill-opacity:1;\">\n",
       "  <use xlink:href=\"#glyph0-2\" x=\"235.828125\" y=\"383.613281\"/>\n",
       "</g>\n",
       "<g style=\"fill:rgb(0%,0%,0%);fill-opacity:1;\">\n",
       "  <use xlink:href=\"#glyph0-3\" x=\"366.296875\" y=\"226.320312\"/>\n",
       "</g>\n",
       "<g style=\"fill:rgb(0%,0%,0%);fill-opacity:1;\">\n",
       "  <use xlink:href=\"#glyph0-4\" x=\"20.042969\" y=\"285.257812\"/>\n",
       "</g>\n",
       "<g style=\"fill:rgb(0%,0%,0%);fill-opacity:1;\">\n",
       "  <use xlink:href=\"#glyph0-5\" x=\"28.597656\" y=\"37.613281\"/>\n",
       "</g>\n",
       "<g style=\"fill:rgb(0%,0%,0%);fill-opacity:1;\">\n",
       "  <use xlink:href=\"#glyph1-1\" x=\"323.421875\" y=\"153.039062\"/>\n",
       "</g>\n",
       "<g style=\"fill:rgb(0%,0%,0%);fill-opacity:1;\">\n",
       "  <use xlink:href=\"#glyph1-2\" x=\"258.410156\" y=\"231.757812\"/>\n",
       "</g>\n",
       "<g style=\"fill:rgb(0%,0%,0%);fill-opacity:1;\">\n",
       "  <use xlink:href=\"#glyph1-3\" x=\"150.324219\" y=\"190.609375\"/>\n",
       "</g>\n",
       "<g style=\"fill:rgb(0%,0%,0%);fill-opacity:1;\">\n",
       "  <use xlink:href=\"#glyph1-4\" x=\"301.421875\" y=\"300.070312\"/>\n",
       "</g>\n",
       "<g style=\"fill:rgb(0%,0%,0%);fill-opacity:1;\">\n",
       "  <use xlink:href=\"#glyph1-2\" x=\"128.128906\" y=\"337.71875\"/>\n",
       "</g>\n",
       "<g style=\"fill:rgb(0%,0%,0%);fill-opacity:1;\">\n",
       "  <use xlink:href=\"#glyph1-5\" x=\"197.296875\" y=\"135.25\"/>\n",
       "</g>\n",
       "<g style=\"fill:rgb(0%,0%,0%);fill-opacity:1;\">\n",
       "  <use xlink:href=\"#glyph1-6\" x=\"24.46875\" y=\"156.617188\"/>\n",
       "</g>\n",
       "</g>\n",
       "</svg>\n"
      ],
      "text/plain": [
       "<igraph.drawing.Plot at 0x7f4f6bcea978>"
      ]
     },
     "execution_count": 8,
     "metadata": {
      "image/svg+xml": {
       "isolated": true
      }
     },
     "output_type": "execute_result"
    }
   ],
   "source": [
    "visual_style = {}\n",
    "\n",
    "out_name = \"graph.png\"\n",
    "\n",
    "# Set bbox and margin\n",
    "visual_style[\"bbox\"] = (400,400)\n",
    "visual_style[\"margin\"] = 27\n",
    "\n",
    "# Set vertex colours\n",
    "visual_style[\"vertex_color\"] = 'white'\n",
    "\n",
    "# Set vertex size\n",
    "visual_style[\"vertex_size\"] = 45\n",
    "\n",
    "# Set vertex lable size\n",
    "visual_style[\"vertex_label_size\"] = 22\n",
    "\n",
    "# Don't curve the edges\n",
    "visual_style[\"edge_curved\"] = False\n",
    "visual_style[\"curved\"] = False\n",
    "g.es['curved']=False\n",
    "\n",
    "# Set the layout\n",
    "my_layout = g.layout_lgl()\n",
    "visual_style[\"layout\"] = my_layout\n",
    "\n",
    "# Plot the graph\n",
    "plot(g, out_name, **visual_style)"
   ]
  },
  {
   "cell_type": "code",
   "execution_count": null,
   "metadata": {},
   "outputs": [],
   "source": []
  }
 ],
 "metadata": {
  "kernelspec": {
   "display_name": "Python 3 (ipykernel)",
   "language": "python",
   "name": "python3"
  },
  "language_info": {
   "codemirror_mode": {
    "name": "ipython",
    "version": 3
   },
   "file_extension": ".py",
   "mimetype": "text/x-python",
   "name": "python",
   "nbconvert_exporter": "python",
   "pygments_lexer": "ipython3",
   "version": "3.6.9"
  }
 },
 "nbformat": 4,
 "nbformat_minor": 2
}
