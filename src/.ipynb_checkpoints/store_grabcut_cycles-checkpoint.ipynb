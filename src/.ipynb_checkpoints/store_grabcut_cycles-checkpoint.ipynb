{
 "cells": [
  {
   "cell_type": "code",
   "execution_count": 11,
   "metadata": {},
   "outputs": [
    {
     "name": "stdout",
     "output_type": "stream",
     "text": [
      "The autoreload extension is already loaded. To reload it, use:\n",
      "  %reload_ext autoreload\n"
     ]
    }
   ],
   "source": [
    "%load_ext autoreload\n",
    "%autoreload 2"
   ]
  },
  {
   "cell_type": "code",
   "execution_count": 12,
   "metadata": {},
   "outputs": [],
   "source": [
    "import numpy as np\n",
    "import cv2\n",
    "#################\n",
    "import os\n",
    "import sys\n",
    "from time import time\n",
    "import matplotlib.pyplot as plt\n",
    "import json\n",
    "import glob\n",
    "import math\n",
    "from sklearn import mixture\n",
    "from collections import Counter\n",
    "from numpy import linalg as LA\n",
    "from grabcut_helper import *\n",
    "import cProfile, pstats, io\n",
    "import imageio\n",
    "from time import time"
   ]
  },
  {
   "cell_type": "code",
   "execution_count": 13,
   "metadata": {},
   "outputs": [],
   "source": [
    "from matplotlib.colors import from_levels_and_colors\n",
    "use_cmap, use_norm = from_levels_and_colors([0,1,2,3,4,5],['black','green','blue','red','yellow'])"
   ]
  },
  {
   "cell_type": "code",
   "execution_count": 14,
   "metadata": {},
   "outputs": [],
   "source": [
    "def run_without_humans(filename: str, DEFAULT_ITRS=1):\n",
    "\n",
    "    # storing the ascii values for the colors used in the user annotation\n",
    "    COLORS = {\n",
    "    'BLACK' : [0,0,0],\n",
    "    'RED'   : [0, 0, 255],\n",
    "    'GREEN' : [0, 255, 0],\n",
    "    'BLUE'  : [255, 0, 0],\n",
    "    'WHITE' : [255,255,255]\n",
    "    }\n",
    "    \n",
    "    # rect: lb_w, lb_h, ub_w, ub_h\n",
    "    # while drawing BG: black is used, \n",
    "    # for drawing FG, white is used\n",
    "\n",
    "    DRAW_BG = {'color' : COLORS['BLACK'], 'val' : 3}\n",
    "    DRAW_FG = {'color' : COLORS['WHITE'], 'val' : 4}\n",
    "    \n",
    "    # various flags in the GUI\n",
    "    FLAGS = {\n",
    "        'RECT' : (0, 0, 1, 1),\n",
    "        'DRAW_STROKE': False,         # flag for drawing strokes\n",
    "        'DRAW_RECT' : False,          # flag for drawing rectangle\n",
    "        'rect_over' : False,          # flag to check if rectangle is  drawn\n",
    "        'rect_or_mask' : -1,          # flag for selecting rectangle or stroke mode\n",
    "        'value' : DRAW_FG,            # drawing strokes initialized to mark foreground\n",
    "    }\n",
    "\n",
    "    # read the image\n",
    "    img = cv2.imread(filename)\n",
    "    #img=img[300:320, 300:320]\n",
    "    \n",
    "    # store a copy\n",
    "    img2 = img.copy()     \n",
    "    \n",
    "    # binary matrix denoting foreground and background\n",
    "    mask = np.zeros(img.shape[:2], dtype = np.uint8) # mask is a binary array with : 0 - background pixels\n",
    "                                                     #                               1 - foreground pixels \n",
    "    print(\"Shape of the image is \", img.shape)\n",
    "    \n",
    "    output = np.zeros(img.shape, np.uint8)           # output image to be shown\n",
    "\n",
    "\n",
    "    \n",
    "    grabcut_obj=None\n",
    "    rect_done=False\n",
    "    \n",
    "    with open('saved_rects.json','r') as fd:\n",
    "        df=json.load(fd)\n",
    "    curr_cat=fetch_img_cat(filename)\n",
    "    grabcut_obj=grabcut_class(img2, df[filename], fetch_gt_path(filename))\n",
    "\n",
    "    perform_pipeline(grabcut_obj, DEFAULT_ITRS, curr_cat)\n",
    "                \n",
    "    return grabcut_obj"
   ]
  },
  {
   "cell_type": "code",
   "execution_count": 15,
   "metadata": {},
   "outputs": [],
   "source": [
    "def fetch_img_cat(main_path):\n",
    "    a=main_path.split(\"/\")[-1]\n",
    "    a=a.split(\".\")[0]\n",
    "    return a"
   ]
  },
  {
   "cell_type": "code",
   "execution_count": 16,
   "metadata": {},
   "outputs": [],
   "source": [
    "def save_img_func(img_cat, img_obj):\n",
    "    os.makedirs(f\"../ans_images/{img_cat}\", exist_ok=True)\n",
    "    ts=int(time())\n",
    "    plt.imsave(f\"../ans_images/{img_cat}/{ts}.jpg\", np.flip(img_obj, axis=-1))\n",
    "    print(\"Saved\")"
   ]
  },
  {
   "cell_type": "code",
   "execution_count": 17,
   "metadata": {
    "scrolled": false
   },
   "outputs": [],
   "source": [
    "#save_img_func('check',np.flip(ans.curr_img.astype('uint8'), axis=-1))"
   ]
  },
  {
   "cell_type": "markdown",
   "metadata": {},
   "source": [
    "for idx in range(len(rgb_vals)):\n",
    "    stat=ans.checker[idx]!=rgb_vals[idx]\n",
    "    if True in stat:\n",
    "        print(idx)\n",
    "        print(ans.checker[idx])\n",
    "        print(rgb_vals[idx])\n",
    "        break"
   ]
  },
  {
   "cell_type": "code",
   "execution_count": 18,
   "metadata": {},
   "outputs": [],
   "source": [
    "def perform_pipeline(ans, NUM_ITRS,category_name,  make_graph=True):\n",
    "    univ_lb_time=time()\n",
    "    if make_graph:\n",
    "        start_time = time()\n",
    "        ans.init_graph()\n",
    "        end_time = time()\n",
    "        seconds_elapsed = end_time - start_time\n",
    "        print(\"Seconds taken to construct graph is :\",seconds_elapsed)\n",
    "    base_path=f\"../ans_images/{category_name}\"\n",
    "    os.makedirs(base_path, exist_ok=True)\n",
    "    subfolders = [ f.path for f in os.scandir(base_path) if f.is_dir() ]\n",
    "    rendition_number=len(subfolders)\n",
    "    base_path+=f\"/{rendition_number}\"\n",
    "    os.makedirs(base_path, exist_ok=False)\n",
    "    #########################\n",
    "    for i in range(NUM_ITRS):\n",
    "        ans.run_an_iteration()\n",
    "        print(\"Distribution is :\",Counter(ans.curr_matte.flatten()))\n",
    "        img_new=fetch_suspected_img(ans.curr_img , ans.curr_matte)\n",
    "        plt.imshow(np.flip(img_new, axis=-1))\n",
    "        save_path=base_path+f\"/img_{i}.jpg\"\n",
    "        plt.imsave(save_path,np.flip(img_new, axis=-1).astype('uint8'))\n",
    "        #plt.show()\n",
    "        print(\"---------\")\n",
    "    univ_ub_time=time()\n",
    "    with open(\"../ans_data.json\",'r') as fd:\n",
    "        df=json.load(fd)\n",
    "    if category_name not in df:\n",
    "        df[category_name]={}\n",
    "        \n",
    "    df[category_name][rendition_number]={'time_taken':univ_ub_time-univ_lb_time,\n",
    "                                        'num_itrs':NUM_ITRS,\n",
    "                                         'score_acc':ans.score_acc, \n",
    "                                         'score_jaccard':ans.score_jaccard, \n",
    "                                        'score_dice':ans.score_dice}\n",
    "    with open(\"../ans_data.json\",'w') as fd:\n",
    "        json.dump(df, fd, indent=4)\n",
    "    print(\"Initial pipeline over\")"
   ]
  },
  {
   "cell_type": "code",
   "execution_count": 19,
   "metadata": {},
   "outputs": [
    {
     "data": {
      "text/plain": [
       "['../images/person4.jpg',\n",
       " '../images/tennis.jpg',\n",
       " '../images/banana2.jpg',\n",
       " '../images/person8.jpg',\n",
       " '../images/teddy.jpg',\n",
       " '../images/memorial.jpg',\n",
       " '../images/fullmoon.jpg',\n",
       " '../images/person3.jpg',\n",
       " '../images/flower.jpg',\n",
       " '../images/person1.jpg',\n",
       " '../images/llama.jpg',\n",
       " '../images/grave.jpg',\n",
       " '../images/stone1.jpg',\n",
       " '../images/book.jpg',\n",
       " '../images/cross.jpg',\n",
       " '../images/elefant.jpg',\n",
       " '../images/bush.jpg',\n",
       " '../images/person2.jpg',\n",
       " '../images/ceramic.jpg',\n",
       " '../images/banana1.jpg',\n",
       " '../images/banana3.jpg',\n",
       " '../images/music.jpg',\n",
       " '../images/person7.jpg',\n",
       " '../images/person5.jpg',\n",
       " '../images/sheep.jpg',\n",
       " '../images/scissors.jpg',\n",
       " '../images/person6.jpg',\n",
       " '../images/doll.jpg',\n",
       " '../images/bool.jpg',\n",
       " '../images/stone2.jpg']"
      ]
     },
     "execution_count": 19,
     "metadata": {},
     "output_type": "execute_result"
    }
   ],
   "source": [
    "glob.glob('../images/*.jpg')"
   ]
  },
  {
   "cell_type": "code",
   "execution_count": 20,
   "metadata": {
    "scrolled": false
   },
   "outputs": [
    {
     "name": "stdout",
     "output_type": "stream",
     "text": [
      "idx of image is  0\n",
      "Shape of the image is  (450, 600, 3)\n",
      "for image , h: 450 ,w:600\n"
     ]
    },
    {
     "ename": "KeyboardInterrupt",
     "evalue": "",
     "output_type": "error",
     "traceback": [
      "\u001b[0;31m---------------------------------------------------------------------------\u001b[0m",
      "\u001b[0;31mKeyboardInterrupt\u001b[0m                         Traceback (most recent call last)",
      "\u001b[0;32m<ipython-input-20-dfba99f89f72>\u001b[0m in \u001b[0;36m<module>\u001b[0;34m\u001b[0m\n\u001b[1;32m      1\u001b[0m \u001b[0;32mfor\u001b[0m \u001b[0midx\u001b[0m\u001b[0;34m,\u001b[0m \u001b[0mfilename\u001b[0m \u001b[0;32min\u001b[0m \u001b[0menumerate\u001b[0m\u001b[0;34m(\u001b[0m\u001b[0mlist\u001b[0m\u001b[0;34m(\u001b[0m\u001b[0mglob\u001b[0m\u001b[0;34m.\u001b[0m\u001b[0mglob\u001b[0m\u001b[0;34m(\u001b[0m\u001b[0;34m'../images/*.jpg'\u001b[0m\u001b[0;34m)\u001b[0m\u001b[0;34m)\u001b[0m\u001b[0;34m)\u001b[0m\u001b[0;34m:\u001b[0m\u001b[0;34m\u001b[0m\u001b[0;34m\u001b[0m\u001b[0m\n\u001b[1;32m      2\u001b[0m     \u001b[0mprint\u001b[0m\u001b[0;34m(\u001b[0m\u001b[0;34m\"idx of image is \"\u001b[0m\u001b[0;34m,\u001b[0m \u001b[0midx\u001b[0m\u001b[0;34m)\u001b[0m\u001b[0;34m\u001b[0m\u001b[0;34m\u001b[0m\u001b[0m\n\u001b[0;32m----> 3\u001b[0;31m     \u001b[0mans\u001b[0m\u001b[0;34m=\u001b[0m\u001b[0mrun_without_humans\u001b[0m\u001b[0;34m(\u001b[0m\u001b[0mfilename\u001b[0m\u001b[0;34m,\u001b[0m\u001b[0;36m10\u001b[0m\u001b[0;34m)\u001b[0m\u001b[0;34m\u001b[0m\u001b[0;34m\u001b[0m\u001b[0m\n\u001b[0m\u001b[1;32m      4\u001b[0m     \u001b[0mprint\u001b[0m\u001b[0;34m(\u001b[0m\u001b[0;34m\"###############################\"\u001b[0m\u001b[0;34m)\u001b[0m\u001b[0;34m\u001b[0m\u001b[0;34m\u001b[0m\u001b[0m\n\u001b[1;32m      5\u001b[0m \u001b[0;31m#cv2.destroyAllWindows()\u001b[0m\u001b[0;34m\u001b[0m\u001b[0;34m\u001b[0m\u001b[0;34m\u001b[0m\u001b[0m\n",
      "\u001b[0;32m<ipython-input-14-997bce635b16>\u001b[0m in \u001b[0;36mrun_without_humans\u001b[0;34m(filename, DEFAULT_ITRS)\u001b[0m\n\u001b[1;32m     51\u001b[0m     \u001b[0mgrabcut_obj\u001b[0m\u001b[0;34m=\u001b[0m\u001b[0mgrabcut_class\u001b[0m\u001b[0;34m(\u001b[0m\u001b[0mimg2\u001b[0m\u001b[0;34m,\u001b[0m \u001b[0mdf\u001b[0m\u001b[0;34m[\u001b[0m\u001b[0mfilename\u001b[0m\u001b[0;34m]\u001b[0m\u001b[0;34m,\u001b[0m \u001b[0mfetch_gt_path\u001b[0m\u001b[0;34m(\u001b[0m\u001b[0mfilename\u001b[0m\u001b[0;34m)\u001b[0m\u001b[0;34m)\u001b[0m\u001b[0;34m\u001b[0m\u001b[0;34m\u001b[0m\u001b[0m\n\u001b[1;32m     52\u001b[0m \u001b[0;34m\u001b[0m\u001b[0m\n\u001b[0;32m---> 53\u001b[0;31m     \u001b[0mperform_pipeline\u001b[0m\u001b[0;34m(\u001b[0m\u001b[0mgrabcut_obj\u001b[0m\u001b[0;34m,\u001b[0m \u001b[0mDEFAULT_ITRS\u001b[0m\u001b[0;34m,\u001b[0m \u001b[0mcurr_cat\u001b[0m\u001b[0;34m)\u001b[0m\u001b[0;34m\u001b[0m\u001b[0;34m\u001b[0m\u001b[0m\n\u001b[0m\u001b[1;32m     54\u001b[0m \u001b[0;34m\u001b[0m\u001b[0m\n\u001b[1;32m     55\u001b[0m     \u001b[0;32mreturn\u001b[0m \u001b[0mgrabcut_obj\u001b[0m\u001b[0;34m\u001b[0m\u001b[0;34m\u001b[0m\u001b[0m\n",
      "\u001b[0;32m<ipython-input-18-09b2e2ae1a12>\u001b[0m in \u001b[0;36mperform_pipeline\u001b[0;34m(ans, NUM_ITRS, category_name, make_graph)\u001b[0m\n\u001b[1;32m      3\u001b[0m     \u001b[0;32mif\u001b[0m \u001b[0mmake_graph\u001b[0m\u001b[0;34m:\u001b[0m\u001b[0;34m\u001b[0m\u001b[0;34m\u001b[0m\u001b[0m\n\u001b[1;32m      4\u001b[0m         \u001b[0mstart_time\u001b[0m \u001b[0;34m=\u001b[0m \u001b[0mtime\u001b[0m\u001b[0;34m(\u001b[0m\u001b[0;34m)\u001b[0m\u001b[0;34m\u001b[0m\u001b[0;34m\u001b[0m\u001b[0m\n\u001b[0;32m----> 5\u001b[0;31m         \u001b[0mans\u001b[0m\u001b[0;34m.\u001b[0m\u001b[0minit_graph\u001b[0m\u001b[0;34m(\u001b[0m\u001b[0;34m)\u001b[0m\u001b[0;34m\u001b[0m\u001b[0;34m\u001b[0m\u001b[0m\n\u001b[0m\u001b[1;32m      6\u001b[0m         \u001b[0mend_time\u001b[0m \u001b[0;34m=\u001b[0m \u001b[0mtime\u001b[0m\u001b[0;34m(\u001b[0m\u001b[0;34m)\u001b[0m\u001b[0;34m\u001b[0m\u001b[0;34m\u001b[0m\u001b[0m\n\u001b[1;32m      7\u001b[0m         \u001b[0mseconds_elapsed\u001b[0m \u001b[0;34m=\u001b[0m \u001b[0mend_time\u001b[0m \u001b[0;34m-\u001b[0m \u001b[0mstart_time\u001b[0m\u001b[0;34m\u001b[0m\u001b[0;34m\u001b[0m\u001b[0m\n",
      "\u001b[0;32m~/Desktop/cv_assignment_3/src/grabcut_helper.py\u001b[0m in \u001b[0;36minit_graph\u001b[0;34m(self)\u001b[0m\n\u001b[1;32m    315\u001b[0m                         \u001b[0mimg_tmp_2\u001b[0m\u001b[0;34m=\u001b[0m\u001b[0mself\u001b[0m\u001b[0;34m.\u001b[0m\u001b[0mcurr_img\u001b[0m\u001b[0;34m[\u001b[0m\u001b[0mx_c\u001b[0m\u001b[0;34m,\u001b[0m\u001b[0my_c\u001b[0m\u001b[0;34m]\u001b[0m\u001b[0;34m\u001b[0m\u001b[0;34m\u001b[0m\u001b[0m\n\u001b[1;32m    316\u001b[0m                         \u001b[0mdiff_v\u001b[0m\u001b[0;34m=\u001b[0m\u001b[0mcv2\u001b[0m\u001b[0;34m.\u001b[0m\u001b[0mabsdiff\u001b[0m\u001b[0;34m(\u001b[0m\u001b[0mimg_tmp_1\u001b[0m\u001b[0;34m,\u001b[0m \u001b[0mimg_tmp_2\u001b[0m\u001b[0;34m)\u001b[0m\u001b[0;34m.\u001b[0m\u001b[0mflatten\u001b[0m\u001b[0;34m(\u001b[0m\u001b[0;34m)\u001b[0m\u001b[0;34m\u001b[0m\u001b[0;34m\u001b[0m\u001b[0m\n\u001b[0;32m--> 317\u001b[0;31m                         \u001b[0mdiff_now\u001b[0m\u001b[0;34m=\u001b[0m\u001b[0mdiff_v\u001b[0m\u001b[0;34m.\u001b[0m\u001b[0mdot\u001b[0m\u001b[0;34m(\u001b[0m\u001b[0mdiff_v\u001b[0m\u001b[0;34m)\u001b[0m\u001b[0;34m.\u001b[0m\u001b[0mastype\u001b[0m\u001b[0;34m(\u001b[0m\u001b[0;34m'int64'\u001b[0m\u001b[0;34m)\u001b[0m\u001b[0;34m\u001b[0m\u001b[0;34m\u001b[0m\u001b[0m\n\u001b[0m\u001b[1;32m    318\u001b[0m                         \u001b[0mn2_id\u001b[0m\u001b[0;34m=\u001b[0m\u001b[0mself\u001b[0m\u001b[0;34m.\u001b[0m\u001b[0mfetch_node_id\u001b[0m\u001b[0;34m(\u001b[0m\u001b[0mx_c\u001b[0m\u001b[0;34m,\u001b[0m \u001b[0my_c\u001b[0m\u001b[0;34m)\u001b[0m\u001b[0;34m\u001b[0m\u001b[0;34m\u001b[0m\u001b[0m\n\u001b[1;32m    319\u001b[0m                         \u001b[0mself\u001b[0m\u001b[0;34m.\u001b[0m\u001b[0minter_pixel_edges\u001b[0m\u001b[0;34m.\u001b[0m\u001b[0mappend\u001b[0m\u001b[0;34m(\u001b[0m\u001b[0;34m(\u001b[0m\u001b[0mn1_id\u001b[0m\u001b[0;34m,\u001b[0m \u001b[0mn2_id\u001b[0m\u001b[0;34m)\u001b[0m\u001b[0;34m)\u001b[0m\u001b[0;34m\u001b[0m\u001b[0;34m\u001b[0m\u001b[0m\n",
      "\u001b[0;31mKeyboardInterrupt\u001b[0m: "
     ]
    }
   ],
   "source": [
    "for idx, filename in enumerate(list(glob.glob('../images/*.jpg'))):\n",
    "    print(\"idx of image is \", idx)\n",
    "    ans=run_without_humans(filename,10)\n",
    "    print(\"###############################\")\n",
    "#cv2.destroyAllWindows()"
   ]
  },
  {
   "cell_type": "code",
   "execution_count": null,
   "metadata": {},
   "outputs": [],
   "source": []
  },
  {
   "cell_type": "markdown",
   "metadata": {},
   "source": []
  },
  {
   "cell_type": "code",
   "execution_count": null,
   "metadata": {},
   "outputs": [],
   "source": []
  },
  {
   "cell_type": "code",
   "execution_count": null,
   "metadata": {},
   "outputs": [],
   "source": []
  },
  {
   "cell_type": "code",
   "execution_count": null,
   "metadata": {},
   "outputs": [],
   "source": []
  }
 ],
 "metadata": {
  "kernelspec": {
   "display_name": "Python 3 (ipykernel)",
   "language": "python",
   "name": "python3"
  },
  "language_info": {
   "codemirror_mode": {
    "name": "ipython",
    "version": 3
   },
   "file_extension": ".py",
   "mimetype": "text/x-python",
   "name": "python",
   "nbconvert_exporter": "python",
   "pygments_lexer": "ipython3",
   "version": "3.6.9"
  }
 },
 "nbformat": 4,
 "nbformat_minor": 4
}
