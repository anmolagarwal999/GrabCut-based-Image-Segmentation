{
 "cells": [
  {
   "cell_type": "markdown",
   "id": "7c8df0ea",
   "metadata": {},
   "source": [
    "### Checking gmm probability stuff whether what I think is perfect or not"
   ]
  },
  {
   "cell_type": "code",
   "execution_count": 1,
   "id": "bc4ce4f0",
   "metadata": {},
   "outputs": [],
   "source": [
    "from sklearn.mixture import GaussianMixture\n",
    "import numpy as np\n",
    "import math\n",
    "np.random.seed(0) ;"
   ]
  },
  {
   "cell_type": "code",
   "execution_count": 2,
   "id": "2296e597",
   "metadata": {},
   "outputs": [
    {
     "data": {
      "text/plain": [
       "GaussianMixture(n_components=4, random_state=68)"
      ]
     },
     "execution_count": 2,
     "metadata": {},
     "output_type": "execute_result"
    }
   ],
   "source": [
    "N=40000\n",
    "means = np.array([[0.5, 0.0, 0.0],\n",
    "                  [0.48, 0.3, 0.0],\n",
    "                  [-0.5, -0.5, -0.5],\n",
    "                  [-0.8, 0.3, 0.4]])\n",
    "covs = np.array([np.diag([0.01, 0.01, 0.03]),\n",
    "                 np.diag([0.08, 0.01, 0.01]),\n",
    "                 np.diag([0.01, 0.05, 0.01]),\n",
    "                 np.diag([0.03, 0.07, 0.01])])\n",
    "n_gaussians = means.shape[0]\n",
    "\n",
    "points = []\n",
    "for i in range(len(means)):\n",
    "    x = np.random.multivariate_normal(means[i], covs[i], N )\n",
    "    points.append(x)\n",
    "points = np.concatenate(points)\n",
    "\n",
    "#fit the gaussian model\n",
    "gmm = GaussianMixture(n_components=n_gaussians, covariance_type='full',random_state=68)\n",
    "gmm.fit(points)"
   ]
  },
  {
   "cell_type": "code",
   "execution_count": 3,
   "id": "c25711c3",
   "metadata": {},
   "outputs": [
    {
     "data": {
      "text/plain": [
       "array([[ 0.5978738 ,  0.04001572,  0.30554283],\n",
       "       [ 0.40227221,  0.1867558 ,  0.38813409],\n",
       "       [ 0.48967811, -0.01513572,  0.16456014],\n",
       "       ...,\n",
       "       [-1.01547926,  0.52344397,  0.50536241],\n",
       "       [-0.68778734,  0.37483953,  0.32257463],\n",
       "       [-0.62084693,  0.08210266,  0.26392389]])"
      ]
     },
     "execution_count": 3,
     "metadata": {},
     "output_type": "execute_result"
    }
   ],
   "source": [
    "points"
   ]
  },
  {
   "cell_type": "code",
   "execution_count": 4,
   "id": "24836b14",
   "metadata": {},
   "outputs": [
    {
     "data": {
      "text/plain": [
       "(array([0.25026816, 0.49973264, 0.12344487, 0.12655433]),\n",
       " array([[-7.98790478e-01,  4.90142667e-01, -5.00198536e-01,\n",
       "         -5.00771798e-01],\n",
       "        [ 3.02498052e-01,  1.50789096e-01, -6.46265703e-01,\n",
       "         -3.57493224e-01],\n",
       "        [ 3.99767690e-01, -2.33924102e-04, -4.99107032e-01,\n",
       "         -4.99136777e-01]]),\n",
       " array([[[ 2.99729474e-02,  4.99064117e-04, -1.17817060e-04],\n",
       "         [ 4.99064117e-04,  6.96034515e-02,  2.62354150e-04],\n",
       "         [-1.17817060e-04,  2.62354150e-04,  1.01519016e-02]],\n",
       " \n",
       "        [[ 4.46837017e-02, -1.43665753e-03, -9.60404208e-05],\n",
       "         [-1.43665753e-03,  3.23921760e-02,  5.28577566e-05],\n",
       "         [-9.60404208e-05,  5.28577566e-05,  1.99466655e-02]],\n",
       " \n",
       "        [[ 9.97215296e-03, -1.24368382e-04,  5.99781639e-05],\n",
       "         [-1.24368382e-04,  2.90537991e-02,  9.38062196e-05],\n",
       "         [ 5.99781639e-05,  9.38062196e-05,  1.00502331e-02]],\n",
       " \n",
       "        [[ 1.00968893e-02, -5.68924732e-05, -9.46829695e-05],\n",
       "         [-5.68924732e-05,  2.88577629e-02,  1.27961941e-04],\n",
       "         [-9.46829695e-05,  1.27961941e-04,  9.98662909e-03]]]))"
      ]
     },
     "execution_count": 4,
     "metadata": {},
     "output_type": "execute_result"
    }
   ],
   "source": [
    "gmm.weights_, gmm.means_.T,gmm.covariances_"
   ]
  },
  {
   "cell_type": "code",
   "execution_count": 5,
   "id": "ca9e7e8f",
   "metadata": {},
   "outputs": [],
   "source": [
    "test_point=np.array([ 0.5  ,  0.001,  0.001])"
   ]
  },
  {
   "cell_type": "code",
   "execution_count": null,
   "id": "d15f34c0",
   "metadata": {},
   "outputs": [],
   "source": []
  },
  {
   "cell_type": "markdown",
   "id": "d1e04b71",
   "metadata": {},
   "source": [
    "### Probability for all labels"
   ]
  },
  {
   "cell_type": "code",
   "execution_count": 6,
   "id": "cf3b4675",
   "metadata": {},
   "outputs": [
    {
     "data": {
      "text/plain": [
       "array([[1.19091792e-16, 1.00000000e+00, 5.95060211e-31, 8.02691580e-29]])"
      ]
     },
     "execution_count": 6,
     "metadata": {},
     "output_type": "execute_result"
    }
   ],
   "source": [
    "gmm.predict_proba([test_point])"
   ]
  },
  {
   "cell_type": "markdown",
   "id": "d73e2921",
   "metadata": {},
   "source": [
    "### Label with max probability"
   ]
  },
  {
   "cell_type": "code",
   "execution_count": 7,
   "id": "4b9e23da",
   "metadata": {},
   "outputs": [
    {
     "data": {
      "text/plain": [
       "array([1])"
      ]
     },
     "execution_count": 7,
     "metadata": {},
     "output_type": "execute_result"
    }
   ],
   "source": [
    "gmm.predict([test_point])"
   ]
  },
  {
   "cell_type": "code",
   "execution_count": null,
   "id": "a42ef136",
   "metadata": {},
   "outputs": [],
   "source": []
  },
  {
   "cell_type": "markdown",
   "id": "e0cde66f",
   "metadata": {},
   "source": [
    "#### Formula for PDF of multivariate gaussian distribution is here: https://en.wikipedia.org/wiki/Multivariate_normal_distribution"
   ]
  },
  {
   "cell_type": "code",
   "execution_count": 8,
   "id": "af146fcb",
   "metadata": {},
   "outputs": [],
   "source": [
    "CHECK_IDX=3\n",
    "the_check=[0,0,0,0]\n",
    "for CHECK_IDX in range(4):\n",
    "    diff=test_point-gmm.means_[CHECK_IDX]\n",
    "    gmm_wt=gmm.weights_[CHECK_IDX]\n",
    "    num=(-0.5)*((  diff.dot(np.linalg.inv(gmm.covariances_[CHECK_IDX])).dot(diff.T)  ))\n",
    "    denom=math.sqrt( ((2*math.pi)**3)*np.linalg.det(gmm.covariances_[CHECK_IDX])    )\n",
    "    the_check[CHECK_IDX]=(math.exp(num)/denom)*gmm_wt"
   ]
  },
  {
   "cell_type": "markdown",
   "id": "49ffeeec",
   "metadata": {},
   "source": [
    "### Covariance matrices are always positive semi-definite and hence num is always positive, this means -1/2 multiply means that the argument to exp is less than zero and numerator lies between 0 and 1"
   ]
  },
  {
   "cell_type": "code",
   "execution_count": 9,
   "id": "ca4c5ef8",
   "metadata": {},
   "outputs": [],
   "source": [
    "rand_arr=np.array(the_check)"
   ]
  },
  {
   "cell_type": "code",
   "execution_count": 10,
   "id": "f4fb4522",
   "metadata": {},
   "outputs": [
    {
     "data": {
      "text/plain": [
       "array([4.97679054e-16, 4.17895345e+00, 2.48672892e-30, 3.35441075e-28])"
      ]
     },
     "execution_count": 10,
     "metadata": {},
     "output_type": "execute_result"
    }
   ],
   "source": [
    "rand_arr"
   ]
  },
  {
   "cell_type": "code",
   "execution_count": 11,
   "id": "4d07fb3f",
   "metadata": {},
   "outputs": [
    {
     "data": {
      "text/plain": [
       "array([1.19091792e-16, 1.00000000e+00, 5.95060211e-31, 8.02691580e-29])"
      ]
     },
     "execution_count": 11,
     "metadata": {},
     "output_type": "execute_result"
    }
   ],
   "source": [
    "the_check/np.linalg.norm(rand_arr)"
   ]
  },
  {
   "cell_type": "markdown",
   "id": "36b21cd2",
   "metadata": {},
   "source": [
    "### checking other functions"
   ]
  },
  {
   "cell_type": "code",
   "execution_count": 12,
   "id": "35d8de11",
   "metadata": {},
   "outputs": [],
   "source": [
    "test_arr=np.array([list(test_point),[4,5,6] , list(test_point)])\n",
    "test_arr=test_arr[-1:]"
   ]
  },
  {
   "cell_type": "code",
   "execution_count": 13,
   "id": "67eb1613",
   "metadata": {},
   "outputs": [
    {
     "data": {
      "text/plain": [
       "array([1.43006084])"
      ]
     },
     "execution_count": 13,
     "metadata": {},
     "output_type": "execute_result"
    }
   ],
   "source": [
    "gmm.score_samples(test_arr)"
   ]
  },
  {
   "cell_type": "code",
   "execution_count": 14,
   "id": "1214f826",
   "metadata": {},
   "outputs": [
    {
     "data": {
      "text/plain": [
       "1.4300608439609788"
      ]
     },
     "execution_count": 14,
     "metadata": {},
     "output_type": "execute_result"
    }
   ],
   "source": [
    "gmm.score(test_arr)"
   ]
  },
  {
   "cell_type": "code",
   "execution_count": 15,
   "id": "284d0b36",
   "metadata": {},
   "outputs": [
    {
     "data": {
      "text/plain": [
       "0.7150304219804894"
      ]
     },
     "execution_count": 15,
     "metadata": {},
     "output_type": "execute_result"
    }
   ],
   "source": [
    "sum(gmm.score_samples(test_arr))/2"
   ]
  },
  {
   "cell_type": "code",
   "execution_count": 16,
   "id": "6857dd93",
   "metadata": {},
   "outputs": [
    {
     "data": {
      "text/plain": [
       "[-35.23657627466811,\n",
       " 1.4300608439609785,\n",
       " -68.16658462908362,\n",
       " -63.26210648345903]"
      ]
     },
     "execution_count": 16,
     "metadata": {},
     "output_type": "execute_result"
    }
   ],
   "source": [
    "[math.log(x) for x in rand_arr]"
   ]
  },
  {
   "cell_type": "code",
   "execution_count": null,
   "id": "cacd0c62",
   "metadata": {},
   "outputs": [],
   "source": []
  }
 ],
 "metadata": {
  "kernelspec": {
   "display_name": "Python 3.6.9 64-bit",
   "language": "python",
   "name": "python369jvsc74a57bd031f2aee4e71d21fbe5cf8b01ff0e069b9275f58929596ceb00d14d90e3e16cd6"
  },
  "language_info": {
   "codemirror_mode": {
    "name": "ipython",
    "version": 3
   },
   "file_extension": ".py",
   "mimetype": "text/x-python",
   "name": "python",
   "nbconvert_exporter": "python",
   "pygments_lexer": "ipython3",
   "version": "3.6.9"
  }
 },
 "nbformat": 4,
 "nbformat_minor": 5
}
